{
 "cells": [
  {
   "attachments": {},
   "cell_type": "markdown",
   "metadata": {},
   "source": [
    "source: https://medium.com/dataseries/convolutional-autoencoder-in-pytorch-on-mnist-dataset-d65145c132ac#63b2\n",
    "source: https://stackoverflow.com/questions/37228371/visualize-mnist-dataset-using-opencv-or-matplotlib-pyplot\n",
    "\n",
    "color source: https://matplotlib.org/stable/tutorials/colors/colors.html\n",
    "palette source: https://seaborn.pydata.org/tutorial/color_palettes.html"
   ]
  },
  {
   "cell_type": "code",
   "execution_count": 1,
   "metadata": {},
   "outputs": [],
   "source": [
    "import torch\n",
    "import torch.nn as nn\n",
    "import torch.nn.functional as F\n",
    "from torch.utils.data import DataLoader, random_split\n",
    "import torch.optim as optim\n",
    "import torchvision\n",
    "from torchvision import transforms\n",
    "\n",
    "import matplotlib.pyplot as plt\n",
    "import seaborn as sns\n",
    "\n",
    "import pandas as pd\n",
    "import numpy as np\n",
    "from sklearn.metrics.pairwise import pairwise_kernels\n",
    "\n",
    "import random\n",
    "import tqdm\n",
    "import time\n",
    "\n",
    "from permutation_testing import *\n",
    "from model import *\n",
    "\n",
    "plt.rcParams['patch.edgecolor'] = 'none' # remove edges from histogram bars"
   ]
  },
  {
   "cell_type": "code",
   "execution_count": 2,
   "metadata": {},
   "outputs": [],
   "source": [
    "# setting random seed\n",
    "# https://pytorch.org/docs/stable/notes/randomness.html \n",
    "torch.manual_seed(0)\n",
    "np.random.seed(0)\n",
    "random.seed(0)\n",
    "\n",
    "torch.use_deterministic_algorithms(True) \n",
    "torch.backends.cudnn.deterministic = True\n",
    "\n",
    "torch.backends.cudnn.benchmark = False "
   ]
  },
  {
   "cell_type": "code",
   "execution_count": 3,
   "metadata": {},
   "outputs": [],
   "source": [
    "%load_ext autoreload\n",
    "%autoreload 2"
   ]
  },
  {
   "cell_type": "code",
   "execution_count": 4,
   "metadata": {},
   "outputs": [
    {
     "name": "stdout",
     "output_type": "stream",
     "text": [
      "torch.Size([256, 1, 28, 28])\n",
      "Number of training samples: 60000\n",
      "Number of test samples: 10000\n"
     ]
    },
    {
     "data": {
      "image/png": "[encoded data removed]",
      "text/plain": [
       "<Figure size 432x288 with 1 Axes>"
      ]
     },
     "metadata": {
      "needs_background": "light"
     },
     "output_type": "display_data"
    }
   ],
   "source": [
    "data_dir = 'dataset'\n",
    "train_dataset = torchvision.datasets.MNIST(data_dir, train=True, download=True)\n",
    "test_dataset  = torchvision.datasets.MNIST(data_dir, train=False, download=True)\n",
    "\n",
    "train_transform = transforms.Compose([transforms.ToTensor(),])\n",
    "test_transform = transforms.Compose([transforms.ToTensor(),])\n",
    "train_dataset.transform = train_transform\n",
    "test_dataset.transform = test_transform\n",
    "\n",
    "m = len(train_dataset)\n",
    "batch_size = 256\n",
    "\n",
    "train_data, val_data = random_split(train_dataset, [int(0.8 * m), int(0.2 * m)])\n",
    "train_loader = DataLoader(train_data, batch_size=batch_size)\n",
    "val_loader = DataLoader(val_data, batch_size=batch_size)\n",
    "test_loader = DataLoader(test_dataset, batch_size=batch_size,shuffle=False) # dangit\n",
    "\n",
    "for data in train_loader:\n",
    "    print(data[0].shape)\n",
    "    break\n",
    "\n",
    "plt.imshow(data[0][0].squeeze(), cmap='gray')\n",
    "\n",
    "print('Number of training samples:', len(train_dataset))\n",
    "print('Number of test samples:', len(test_dataset))"
   ]
  },
  {
   "attachments": {},
   "cell_type": "markdown",
   "metadata": {},
   "source": [
    "### keeping track of model weights\n",
    "- 05232023a: epochs=50, lr=1e-3, d=4, inplace=T, ReLU\n",
    "- 05302023a: epochs=50, lr=1e-3, d=4, inplace=F, ReLU \n",
    "- 05302023b: epochs=50, lr=1e-3, d=4, inplace=F, ELU \n",
    "- 06072023a: epochs=50, lr=1e-3, d=4, inplace=F, ELU; used deterministic things from PyTorch\n",
    "    - epoch 50: train loss: 0.02580, val loss: 0.02636\n",
    "- 06072023b: epochs=50, lr=1e-3, d=4, inplace=F, ELU; additionally used `torch.backends.cudnn.benchmark = False`\n",
    "    - epoch 50: train loss: 0.02580, val loss: 0.02636\n",
    "- 06072023c: same settings as 06072023b except d=6\n",
    "    - epoch 50: train loss: 0.01868, val loss: 0.01931\n"
   ]
  },
  {
   "cell_type": "code",
   "execution_count": 5,
   "metadata": {},
   "outputs": [
    {
     "name": "stdout",
     "output_type": "stream",
     "text": [
      "Selected device: cpu\n"
     ]
    }
   ],
   "source": [
    "device = torch.device(\"cuda\") if torch.cuda.is_available() else torch.device(\"cpu\")\n",
    "print(f'Selected device: {device}')  \n",
    "\n",
    "loss_fn = torch.nn.MSELoss()\n",
    "lr = 0.001\n",
    "num_epochs = 50\n",
    "d = 6"
   ]
  },
  {
   "cell_type": "code",
   "execution_count": 6,
   "metadata": {},
   "outputs": [
    {
     "name": "stdout",
     "output_type": "stream",
     "text": [
      "CPU times: user 3.48 ms, sys: 1.69 ms, total: 5.17 ms\n",
      "Wall time: 6.87 ms\n"
     ]
    },
    {
     "data": {
      "text/plain": [
       "(Encoder(\n",
       "   (encoder_cnn): Sequential(\n",
       "     (0): Conv2d(1, 8, kernel_size=(3, 3), stride=(2, 2), padding=(1, 1))\n",
       "     (1): ELU(alpha=1.0)\n",
       "     (2): Conv2d(8, 16, kernel_size=(3, 3), stride=(2, 2), padding=(1, 1))\n",
       "     (3): ELU(alpha=1.0)\n",
       "     (4): Conv2d(16, 32, kernel_size=(3, 3), stride=(2, 2))\n",
       "     (5): ELU(alpha=1.0)\n",
       "   )\n",
       "   (flatten): Flatten(start_dim=1, end_dim=-1)\n",
       "   (encoder_lin): Sequential(\n",
       "     (0): Linear(in_features=288, out_features=128, bias=True)\n",
       "     (1): ELU(alpha=1.0)\n",
       "     (2): Linear(in_features=128, out_features=6, bias=True)\n",
       "   )\n",
       " ),\n",
       " Decoder(\n",
       "   (decoder_lin): Sequential(\n",
       "     (0): Linear(in_features=6, out_features=128, bias=True)\n",
       "     (1): ELU(alpha=1.0)\n",
       "     (2): Linear(in_features=128, out_features=288, bias=True)\n",
       "     (3): ELU(alpha=1.0)\n",
       "   )\n",
       "   (unflatten): Unflatten(dim=1, unflattened_size=(32, 3, 3))\n",
       "   (decoder_conv): Sequential(\n",
       "     (0): ConvTranspose2d(32, 16, kernel_size=(3, 3), stride=(2, 2))\n",
       "     (1): ELU(alpha=1.0)\n",
       "     (2): ConvTranspose2d(16, 8, kernel_size=(3, 3), stride=(2, 2), padding=(1, 1), output_padding=(1, 1))\n",
       "     (3): ELU(alpha=1.0)\n",
       "     (4): ConvTranspose2d(8, 1, kernel_size=(3, 3), stride=(2, 2), padding=(1, 1), output_padding=(1, 1))\n",
       "   )\n",
       " ))"
      ]
     },
     "execution_count": 6,
     "metadata": {},
     "output_type": "execute_result"
    }
   ],
   "source": [
    "%%time\n",
    "\n",
    "train = False\n",
    "version = '06072023c' # NOTE: MAKE SURE TO UPDATE THIS EVERY TIME\n",
    "\n",
    "encoder = Encoder(encoded_space_dim=d,fc2_input_dim=128)\n",
    "decoder = Decoder(encoded_space_dim=d,fc2_input_dim=128)\n",
    "\n",
    "if train: \n",
    "    params_to_optimize = [\n",
    "        {'params': encoder.parameters()},\n",
    "        {'params': decoder.parameters()}\n",
    "    ]\n",
    "\n",
    "    optimizer = optim.Adam(params_to_optimize, lr=lr)\n",
    "    print_every = 10\n",
    "\n",
    "    encoder.to(device)\n",
    "    decoder.to(device)\n",
    "    plot_ae_outputs(encoder, decoder, test_dataset, device, n=10)\n",
    "    losses = {'train_loss': [], 'val_loss': []}\n",
    "    for epoch in range(num_epochs):\n",
    "        train_loss = train_epoch(encoder,decoder,device, train_loader,loss_fn, optimizer)\n",
    "        val_loss = test_epoch(encoder, decoder, device, val_loader, loss_fn) # better for this to be val_loader?\n",
    "        print('EPOCH {}/{}: train loss: {:.5f}, val loss: {:.5f}'.format(epoch + 1, num_epochs, train_loss, val_loss))\n",
    "        losses['train_loss'].append(train_loss)\n",
    "        losses['val_loss'].append(val_loss)\n",
    "        if (epoch + 1) % print_every == 0:\n",
    "            plot_ae_outputs(encoder, decoder, test_dataset, device, n=10)\n",
    "    # save the model\n",
    "    torch.save(encoder.state_dict(), 'weights/encoder_weights_' + version + '.pth')\n",
    "    torch.save(decoder.state_dict(), 'weights/decoder_weights_' + version + '.pth')\n",
    "else:\n",
    "    encoder.load_state_dict(torch.load('weights/encoder_weights_' + version + '.pth'))\n",
    "    decoder.load_state_dict(torch.load('weights/decoder_weights_' + version + '.pth'))\n",
    "\n",
    "encoder.eval(), decoder.eval()"
   ]
  },
  {
   "cell_type": "code",
   "execution_count": 7,
   "metadata": {},
   "outputs": [],
   "source": [
    "test_error_on_classes = True\n",
    "losses = {}\n",
    "centers = {}\n",
    "if test_error_on_classes:\n",
    "    for label in data[1].unique():\n",
    "        losses[label.item()] = 0\n",
    "        centers[label.item()] = torch.zeros(6)\n",
    "        num_digits = 0\n",
    "        for ind, data in enumerate(test_loader):\n",
    "            idx = data[1] == label.item()\n",
    "            num_digits += idx.sum().item()\n",
    "            original_images = data[0][idx]\n",
    "\n",
    "            latent_representations = encoder(original_images)\n",
    "            recon_images = decoder(latent_representations)\n",
    "\n",
    "            losses[label.item()] += loss_fn(original_images, recon_images).item()\n",
    "            centers[label.item()] += latent_representations.mean(dim=0)\n",
    "        \n",
    "        losses[label.item()] /= num_digits\n",
    "        losses[label.item()] = np.round(losses[label.item()], 7)\n",
    "\n",
    "        centers[label.item()] /= num_digits\n",
    "    pd.Series(losses).sort_values()"
   ]
  },
  {
   "cell_type": "code",
   "execution_count": 10,
   "metadata": {},
   "outputs": [
    {
     "data": {
      "text/plain": [
       "8    0.001194\n",
       "5    0.001158\n",
       "2    0.001020\n",
       "3    0.000971\n",
       "6    0.000748\n",
       "0    0.000733\n",
       "4    0.000728\n",
       "9    0.000646\n",
       "7    0.000541\n",
       "1    0.000144\n",
       "dtype: float64"
      ]
     },
     "execution_count": 10,
     "metadata": {},
     "output_type": "execute_result"
    }
   ],
   "source": [
    "pd.Series(losses).sort_values(ascending=False) # 8 has the greatest reconstruction error"
   ]
  },
  {
   "cell_type": "code",
   "execution_count": 11,
   "metadata": {},
   "outputs": [],
   "source": [
    "pairwise_center_distances = torch.zeros(10, 10)\n",
    "for num1 in range(0, 10):\n",
    "    for num2 in range(0, 10):\n",
    "        pairwise_center_distances[num1, num2] = ((centers[num1] - centers[num2]) ** 2).sum()"
   ]
  },
  {
   "cell_type": "code",
   "execution_count": 12,
   "metadata": {},
   "outputs": [
    {
     "data": {
      "text/plain": [
       "torch.return_types.topk(\n",
       "values=tensor([[0.0000, 0.5765],\n",
       "        [0.0000, 0.9230],\n",
       "        [0.0000, 0.6556],\n",
       "        [0.0000, 0.3532],\n",
       "        [0.0000, 0.5178],\n",
       "        [0.0000, 0.3877],\n",
       "        [0.0000, 0.5765],\n",
       "        [0.0000, 0.4212],\n",
       "        [0.0000, 0.3532],\n",
       "        [0.0000, 0.4212]], grad_fn=<TopkBackward0>),\n",
       "indices=tensor([[0, 6],\n",
       "        [1, 2],\n",
       "        [2, 8],\n",
       "        [3, 8],\n",
       "        [4, 9],\n",
       "        [5, 8],\n",
       "        [6, 0],\n",
       "        [7, 9],\n",
       "        [8, 3],\n",
       "        [9, 7]]))"
      ]
     },
     "execution_count": 12,
     "metadata": {},
     "output_type": "execute_result"
    }
   ],
   "source": [
    "# see which digits have closest embeddings on average\n",
    "torch.topk(pairwise_center_distances, k=2, dim=1, largest=False) \n",
    "# so 8 and 3 are the digits with closest latent embeddings, on average"
   ]
  },
  {
   "attachments": {},
   "cell_type": "markdown",
   "metadata": {},
   "source": [
    "## Convenience Functions"
   ]
  },
  {
   "cell_type": "code",
   "execution_count": 8,
   "metadata": {},
   "outputs": [],
   "source": [
    "def p_val(simulated_stats, observed_stat):\n",
    "    return (np.array([stat.item() for stat in simulated_stats]) > observed_stat.item()).mean()#i"
   ]
  },
  {
   "cell_type": "code",
   "execution_count": 9,
   "metadata": {},
   "outputs": [],
   "source": [
    "def plot_permutation(\n",
    "        simulated_stats, \n",
    "        observed_stat, \n",
    "        bins=50, \n",
    "        filepath='', \n",
    "        hist_color='tab:blue', \n",
    "        line_color='tab.red'\n",
    "    ):\n",
    "    print('p_value:', p_val(simulated_stats, observed_stat))\n",
    "    sns.displot([mmd.item() for mmd in simulated_stats], bins=bins, color=hist_color)\n",
    "    plt.axvline(observed_stat.item(), color=line_color)\n",
    "    if filepath != '':\n",
    "        print('Image saved to ' + str(filepath))\n",
    "        plt.savefig(filepath + '.jpg', bbox_inches='tight')\n",
    "    else:\n",
    "        print('No image saved.')\n",
    "    return"
   ]
  },
  {
   "cell_type": "markdown",
   "metadata": {},
   "source": [
    "## Creating X and Y samples"
   ]
  },
  {
   "attachments": {},
   "cell_type": "markdown",
   "metadata": {},
   "source": [
    "### $X$ = {images of 8's}, $Y$ = {images of 3's}"
   ]
  },
  {
   "cell_type": "code",
   "execution_count": 46,
   "metadata": {},
   "outputs": [
    {
     "name": "stdout",
     "output_type": "stream",
     "text": [
      "x_batch shape: torch.Size([224, 1, 28, 28])\n",
      "y_batch shape: torch.Size([237, 1, 28, 28])\n",
      "r_batch shape: torch.Size([51, 1, 28, 28])\n"
     ]
    }
   ],
   "source": [
    "# generate x_batch, y_batch\n",
    "x_batch = []\n",
    "y_batch = []\n",
    "for ind, data in enumerate(test_loader): # filter batches based on digit\n",
    "    if ind == 5: \n",
    "        r_batch = data[0][(data[1] == 8) | (data[1] == 3)]\n",
    "    elif 5 < ind and ind < 15:\n",
    "        x_batch.append(data[0][data[1] == 8])\n",
    "        y_batch.append(data[0][data[1] == 3])\n",
    "    elif ind == 15: \n",
    "        break\n",
    "x_batch = torch.cat(x_batch, dim=0)\n",
    "y_batch = torch.cat(y_batch, dim=0)\n",
    "print('x_batch shape:', x_batch.shape)\n",
    "print('y_batch shape:', y_batch.shape)\n",
    "print('r_batch shape:', r_batch.shape)\n",
    "\n",
    "n_perms = 250"
   ]
  },
  {
   "attachments": {},
   "cell_type": "markdown",
   "metadata": {},
   "source": [
    "### Statistics for Anisotropic Kernel"
   ]
  },
  {
   "cell_type": "code",
   "execution_count": 14,
   "metadata": {},
   "outputs": [
    {
     "name": "stderr",
     "output_type": "stream",
     "text": [
      "100%|██████████| 250/250 [00:14<00:00, 17.14it/s]\n"
     ]
    },
    {
     "name": "stdout",
     "output_type": "stream",
     "text": [
      "bandwidth: 0.125\n",
      "p_value: 0.0\n",
      "Image saved to images_latentdim6_8v3v8/diff_anisotropic_s-3_8v3\n"
     ]
    },
    {
     "data": {
      "image/png": "[encoded data removed]",
      "text/plain": [
       "<Figure size 360x360 with 1 Axes>"
      ]
     },
     "metadata": {
      "needs_background": "light"
     },
     "output_type": "display_data"
    },
    {
     "name": "stderr",
     "output_type": "stream",
     "text": [
      "100%|██████████| 250/250 [00:16<00:00, 14.92it/s]\n"
     ]
    },
    {
     "name": "stdout",
     "output_type": "stream",
     "text": [
      "bandwidth: 0.25\n",
      "p_value: 0.0\n",
      "Image saved to images_latentdim6_8v3v8/diff_anisotropic_s-2_8v3\n"
     ]
    },
    {
     "data": {
      "image/png": "[encoded data removed]",
      "text/plain": [
       "<Figure size 360x360 with 1 Axes>"
      ]
     },
     "metadata": {
      "needs_background": "light"
     },
     "output_type": "display_data"
    },
    {
     "name": "stderr",
     "output_type": "stream",
     "text": [
      "100%|██████████| 250/250 [00:13<00:00, 18.09it/s]\n"
     ]
    },
    {
     "name": "stdout",
     "output_type": "stream",
     "text": [
      "bandwidth: 0.5\n",
      "p_value: 0.0\n",
      "Image saved to images_latentdim6_8v3v8/diff_anisotropic_s-1_8v3\n"
     ]
    },
    {
     "data": {
      "image/png": "[encoded data removed]",
      "text/plain": [
       "<Figure size 360x360 with 1 Axes>"
      ]
     },
     "metadata": {
      "needs_background": "light"
     },
     "output_type": "display_data"
    },
    {
     "name": "stderr",
     "output_type": "stream",
     "text": [
      "100%|██████████| 250/250 [00:14<00:00, 17.84it/s]\n"
     ]
    },
    {
     "name": "stdout",
     "output_type": "stream",
     "text": [
      "bandwidth: 1\n",
      "p_value: 0.0\n",
      "Image saved to images_latentdim6_8v3v8/diff_anisotropic_s0_8v3\n"
     ]
    },
    {
     "data": {
      "image/png": "[encoded data removed]",
      "text/plain": [
       "<Figure size 360x360 with 1 Axes>"
      ]
     },
     "metadata": {
      "needs_background": "light"
     },
     "output_type": "display_data"
    },
    {
     "name": "stderr",
     "output_type": "stream",
     "text": [
      "100%|██████████| 250/250 [00:14<00:00, 17.79it/s]\n"
     ]
    },
    {
     "name": "stdout",
     "output_type": "stream",
     "text": [
      "bandwidth: 2\n",
      "p_value: 0.0\n",
      "Image saved to images_latentdim6_8v3v8/diff_anisotropic_s1_8v3\n"
     ]
    },
    {
     "data": {
      "image/png": "[encoded data removed]",
      "text/plain": [
       "<Figure size 360x360 with 1 Axes>"
      ]
     },
     "metadata": {
      "needs_background": "light"
     },
     "output_type": "display_data"
    },
    {
     "name": "stderr",
     "output_type": "stream",
     "text": [
      "100%|██████████| 250/250 [00:14<00:00, 17.25it/s]\n"
     ]
    },
    {
     "name": "stdout",
     "output_type": "stream",
     "text": [
      "bandwidth: 4\n",
      "p_value: 0.0\n",
      "Image saved to images_latentdim6_8v3v8/diff_anisotropic_s2_8v3\n"
     ]
    },
    {
     "data": {
      "image/png": "[encoded data removed]",
      "text/plain": [
       "<Figure size 360x360 with 1 Axes>"
      ]
     },
     "metadata": {
      "needs_background": "light"
     },
     "output_type": "display_data"
    },
    {
     "name": "stderr",
     "output_type": "stream",
     "text": [
      "100%|██████████| 250/250 [00:13<00:00, 17.97it/s]\n"
     ]
    },
    {
     "name": "stdout",
     "output_type": "stream",
     "text": [
      "bandwidth: 8\n",
      "p_value: 0.0\n",
      "Image saved to images_latentdim6_8v3v8/diff_anisotropic_s3_8v3\n"
     ]
    },
    {
     "data": {
      "image/png": "[encoded data removed]",
      "text/plain": [
       "<Figure size 360x360 with 1 Axes>"
      ]
     },
     "metadata": {
      "needs_background": "light"
     },
     "output_type": "display_data"
    },
    {
     "name": "stdout",
     "output_type": "stream",
     "text": [
      "CPU times: user 2min 53s, sys: 6min 5s, total: 8min 58s\n",
      "Wall time: 1min 55s\n"
     ]
    }
   ],
   "source": [
    "%%time\n",
    "\n",
    "# anisotropic mmd\n",
    "\n",
    "encoder.eval()\n",
    "diff_anisotropic_stats = {}\n",
    "for val in [-3, -2, -1, 0, 1, 2, 3]:\n",
    "    start = time.time()\n",
    "    observed_mmd_anisotropic8v3, simulated_mmds_anisotropic8v3 = permutation_test_anisotropic_mmd(\n",
    "        x_batch, y_batch, r_batch, encoder, n_perms=n_perms, sigma_squared=(2 ** val)\n",
    "    )\n",
    "    end = time.time()\n",
    "    p = p_val(simulated_mmds_anisotropic8v3, observed_mmd_anisotropic8v3)\n",
    "    diff_anisotropic_stats[val] = {'p': p, 'time': end - start}\n",
    "\n",
    "    hist_color = '#093885'\n",
    "    line_color = 'tab:red'\n",
    "    filepath = 'images_latentdim6_8v3v8/diff_anisotropic_s' + str(val) + '_8v3'\n",
    "\n",
    "    print('bandwidth:', str(np.round(2 ** val, 3)))\n",
    "    plot_permutation(\n",
    "        simulated_mmds_anisotropic8v3, \n",
    "        observed_mmd_anisotropic8v3, \n",
    "        hist_color = hist_color, \n",
    "        line_color = line_color,\n",
    "        filepath = filepath\n",
    "    )\n",
    "    plt.show()"
   ]
  },
  {
   "cell_type": "code",
   "execution_count": 15,
   "metadata": {},
   "outputs": [
    {
     "data": {
      "text/plain": [
       "{-3: {'p': 0.0, 'time': 16.131669998168945},\n",
       " -2: {'p': 0.0, 'time': 19.450505018234253},\n",
       " -1: {'p': 0.0, 'time': 16.172513961791992},\n",
       " 0: {'p': 0.0, 'time': 15.594956159591675},\n",
       " 1: {'p': 0.0, 'time': 15.692456007003784},\n",
       " 2: {'p': 0.0, 'time': 15.834607124328613},\n",
       " 3: {'p': 0.0, 'time': 15.415678024291992}}"
      ]
     },
     "execution_count": 15,
     "metadata": {},
     "output_type": "execute_result"
    }
   ],
   "source": [
    "diff_anisotropic_stats"
   ]
  },
  {
   "attachments": {},
   "cell_type": "markdown",
   "metadata": {},
   "source": [
    "### Statistics for Encoder Kernel"
   ]
  },
  {
   "cell_type": "code",
   "execution_count": 19,
   "metadata": {},
   "outputs": [
    {
     "name": "stderr",
     "output_type": "stream",
     "text": [
      "100%|██████████| 250/250 [00:26<00:00,  9.57it/s]"
     ]
    },
    {
     "name": "stdout",
     "output_type": "stream",
     "text": [
      "bandwidth: 0.125\n",
      "p_value: 0.0\n",
      "Image saved to images_latentdim6_8v3v8/diff_encoder_s-3_8v3\n"
     ]
    },
    {
     "name": "stderr",
     "output_type": "stream",
     "text": [
      "\n"
     ]
    },
    {
     "data": {
      "image/png": "[encoded data removed]",
      "text/plain": [
       "<Figure size 360x360 with 1 Axes>"
      ]
     },
     "metadata": {
      "needs_background": "light"
     },
     "output_type": "display_data"
    },
    {
     "name": "stderr",
     "output_type": "stream",
     "text": [
      "100%|██████████| 250/250 [00:26<00:00,  9.61it/s]\n"
     ]
    },
    {
     "name": "stdout",
     "output_type": "stream",
     "text": [
      "bandwidth: 0.25\n",
      "p_value: 0.0\n",
      "Image saved to images_latentdim6_8v3v8/diff_encoder_s-2_8v3\n"
     ]
    },
    {
     "data": {
      "image/png": "[encoded data removed]",
      "text/plain": [
       "<Figure size 360x360 with 1 Axes>"
      ]
     },
     "metadata": {
      "needs_background": "light"
     },
     "output_type": "display_data"
    },
    {
     "name": "stderr",
     "output_type": "stream",
     "text": [
      "100%|██████████| 250/250 [00:25<00:00,  9.87it/s]\n"
     ]
    },
    {
     "name": "stdout",
     "output_type": "stream",
     "text": [
      "bandwidth: 0.5\n",
      "p_value: 0.0\n",
      "Image saved to images_latentdim6_8v3v8/diff_encoder_s-1_8v3\n"
     ]
    },
    {
     "data": {
      "image/png": "[encoded data removed]",
      "text/plain": [
       "<Figure size 360x360 with 1 Axes>"
      ]
     },
     "metadata": {
      "needs_background": "light"
     },
     "output_type": "display_data"
    },
    {
     "name": "stderr",
     "output_type": "stream",
     "text": [
      "100%|██████████| 250/250 [00:25<00:00,  9.96it/s]\n"
     ]
    },
    {
     "name": "stdout",
     "output_type": "stream",
     "text": [
      "bandwidth: 1\n",
      "p_value: 0.0\n",
      "Image saved to images_latentdim6_8v3v8/diff_encoder_s0_8v3\n"
     ]
    },
    {
     "data": {
      "image/png": "[encoded data removed]",
      "text/plain": [
       "<Figure size 360x360 with 1 Axes>"
      ]
     },
     "metadata": {
      "needs_background": "light"
     },
     "output_type": "display_data"
    },
    {
     "name": "stderr",
     "output_type": "stream",
     "text": [
      "100%|██████████| 250/250 [00:25<00:00,  9.96it/s]\n"
     ]
    },
    {
     "name": "stdout",
     "output_type": "stream",
     "text": [
      "bandwidth: 2\n",
      "p_value: 0.0\n",
      "Image saved to images_latentdim6_8v3v8/diff_encoder_s1_8v3\n"
     ]
    },
    {
     "data": {
      "image/png": "[encoded data removed]",
      "text/plain": [
       "<Figure size 360x360 with 1 Axes>"
      ]
     },
     "metadata": {
      "needs_background": "light"
     },
     "output_type": "display_data"
    },
    {
     "name": "stderr",
     "output_type": "stream",
     "text": [
      "100%|██████████| 250/250 [00:26<00:00,  9.57it/s]\n"
     ]
    },
    {
     "name": "stdout",
     "output_type": "stream",
     "text": [
      "bandwidth: 4\n",
      "p_value: 0.0\n",
      "Image saved to images_latentdim6_8v3v8/diff_encoder_s2_8v3\n"
     ]
    },
    {
     "data": {
      "image/png": "[encoded data removed]",
      "text/plain": [
       "<Figure size 360x360 with 1 Axes>"
      ]
     },
     "metadata": {
      "needs_background": "light"
     },
     "output_type": "display_data"
    },
    {
     "name": "stderr",
     "output_type": "stream",
     "text": [
      "100%|██████████| 250/250 [00:25<00:00,  9.71it/s]\n"
     ]
    },
    {
     "name": "stdout",
     "output_type": "stream",
     "text": [
      "bandwidth: 8\n",
      "p_value: 0.0\n",
      "Image saved to images_latentdim6_8v3v8/diff_encoder_s3_8v3\n"
     ]
    },
    {
     "data": {
      "image/png": "[encoded data removed]",
      "text/plain": [
       "<Figure size 360x360 with 1 Axes>"
      ]
     },
     "metadata": {
      "needs_background": "light"
     },
     "output_type": "display_data"
    }
   ],
   "source": [
    "# encoder mmd\n",
    "# suspect this is less robust to variance since this is not linear\n",
    "\n",
    "encoder.eval()\n",
    "diff_encoder_stats = {}\n",
    "for val in [-3, -2, -1, 0, 1, 2, 3]:\n",
    "    start = time.time()\n",
    "    observed_mmd_encoder8v3, simulated_mmds_encoder8v3 = permutation_test_encoder_mmd(\n",
    "        x_batch, y_batch, r_batch, encoder, n_perms=n_perms, sigma_squared=(2 ** val)\n",
    "    )\n",
    "    end = time.time()\n",
    "    p = p_val(simulated_mmds_encoder8v3, observed_mmd_encoder8v3)\n",
    "    diff_encoder_stats[val] = {'p': p, 'time': end - start}\n",
    "\n",
    "    hist_color = 'tab:blue'\n",
    "    line_color = 'tab:orange'\n",
    "    filepath = 'images_latentdim6_8v3v8/diff_encoder_s' + str(val) + '_8v3'\n",
    "\n",
    "    print('bandwidth:', str(np.round(2 ** val, 3)))\n",
    "    plot_permutation(\n",
    "        simulated_mmds_encoder8v3, \n",
    "        observed_mmd_encoder8v3, \n",
    "        hist_color = hist_color, \n",
    "        line_color = line_color,\n",
    "        filepath = filepath\n",
    "    )\n",
    "    plt.show()"
   ]
  },
  {
   "cell_type": "code",
   "execution_count": 32,
   "metadata": {},
   "outputs": [
    {
     "data": {
      "text/plain": [
       "{-3: {'p': 0.0, 'time': 26.23369526863098},\n",
       " -2: {'p': 0.0, 'time': 29.212039947509766},\n",
       " -1: {'p': 0.0, 'time': 28.505435943603516},\n",
       " 0: {'p': 0.0, 'time': 28.319178104400635},\n",
       " 1: {'p': 0.0, 'time': 28.39599895477295},\n",
       " 2: {'p': 0.0, 'time': 28.8230037689209},\n",
       " 3: {'p': 0.0, 'time': 29.046234846115112}}"
      ]
     },
     "execution_count": 32,
     "metadata": {},
     "output_type": "execute_result"
    }
   ],
   "source": [
    "diff_encoder_stats"
   ]
  },
  {
   "attachments": {},
   "cell_type": "markdown",
   "metadata": {},
   "source": [
    "### Statistics for Gaussian MMD"
   ]
  },
  {
   "cell_type": "code",
   "execution_count": 21,
   "metadata": {},
   "outputs": [
    {
     "name": "stdout",
     "output_type": "stream",
     "text": [
      "number of features: 784\n",
      "bandwidth selected by sklearn's auto method: 0.0012755102040816326\n"
     ]
    }
   ],
   "source": [
    "# xy_batch = torch.cat([x_batch, y_batch], dim=0)\n",
    "# xy_batch_sample_mean = xy_batch.squeeze().flatten(start_dim=1).mean(dim=0)\n",
    "# xy_batch_sample_var = ((xy_batch.squeeze().flatten(start_dim=1) - xy_batch_sample_mean) ** 2).sum() \n",
    "# xy_batch_sample_var /= (len(xy_batch ) - 1)\n",
    "# xy_batch_sample_var = xy_batch_sample_var.item()\n",
    "# print('xy_batch sample variance:', xy_batch_sample_var)\n",
    "\n",
    "num_features = 28 * 28\n",
    "print('number of features:', num_features)\n",
    "\n",
    "# scale_sigma_squared = 1 / (xy_batch_sample_var * num_features)\n",
    "auto_sigma_squared = 1 / num_features\n",
    "# print('bandwidth selected by sklearn\\'s scale method:', scale_sigma_squared)\n",
    "print('bandwidth selected by sklearn\\'s auto method:', auto_sigma_squared)"
   ]
  },
  {
   "cell_type": "code",
   "execution_count": 18,
   "metadata": {},
   "outputs": [
    {
     "name": "stderr",
     "output_type": "stream",
     "text": [
      "100%|██████████| 250/250 [00:05<00:00, 48.38it/s]\n"
     ]
    },
    {
     "name": "stdout",
     "output_type": "stream",
     "text": [
      "bandwidth: 1.0\n",
      "p_value: 0.0\n",
      "Image saved to images_latentdim6_8v3v8/diff_gaussian_s2.8848260237648284e-05_8v3\n"
     ]
    },
    {
     "data": {
      "image/png": "[encoded data removed]",
      "text/plain": [
       "<Figure size 360x360 with 1 Axes>"
      ]
     },
     "metadata": {
      "needs_background": "light"
     },
     "output_type": "display_data"
    },
    {
     "name": "stderr",
     "output_type": "stream",
     "text": [
      "100%|██████████| 250/250 [00:03<00:00, 68.57it/s]\n"
     ]
    },
    {
     "name": "stdout",
     "output_type": "stream",
     "text": [
      "bandwidth: 1.001\n",
      "p_value: 0.0\n",
      "Image saved to images_latentdim6_8v3v8/diff_gaussian_s0.0012755102040816326_8v3\n"
     ]
    },
    {
     "data": {
      "image/png": "[encoded data removed]",
      "text/plain": [
       "<Figure size 360x360 with 1 Axes>"
      ]
     },
     "metadata": {
      "needs_background": "light"
     },
     "output_type": "display_data"
    },
    {
     "name": "stderr",
     "output_type": "stream",
     "text": [
      "100%|██████████| 250/250 [00:03<00:00, 81.08it/s] \n"
     ]
    },
    {
     "name": "stdout",
     "output_type": "stream",
     "text": [
      "bandwidth: 0.125\n",
      "p_value: 0.0\n",
      "Image saved to images_latentdim6_8v3v8/diff_gaussian_s-3_8v3\n"
     ]
    },
    {
     "data": {
      "image/png": "[encoded data removed]",
      "text/plain": [
       "<Figure size 360x360 with 1 Axes>"
      ]
     },
     "metadata": {
      "needs_background": "light"
     },
     "output_type": "display_data"
    },
    {
     "name": "stderr",
     "output_type": "stream",
     "text": [
      "100%|██████████| 250/250 [00:02<00:00, 89.47it/s] \n"
     ]
    },
    {
     "name": "stdout",
     "output_type": "stream",
     "text": [
      "bandwidth: 0.25\n",
      "p_value: 0.0\n",
      "Image saved to images_latentdim6_8v3v8/diff_gaussian_s-2_8v3\n"
     ]
    },
    {
     "data": {
      "image/png": "[encoded data removed]",
      "text/plain": [
       "<Figure size 360x360 with 1 Axes>"
      ]
     },
     "metadata": {
      "needs_background": "light"
     },
     "output_type": "display_data"
    },
    {
     "name": "stderr",
     "output_type": "stream",
     "text": [
      "100%|██████████| 250/250 [00:03<00:00, 69.37it/s] \n"
     ]
    },
    {
     "name": "stdout",
     "output_type": "stream",
     "text": [
      "bandwidth: 0.5\n",
      "p_value: 0.0\n",
      "Image saved to images_latentdim6_8v3v8/diff_gaussian_s-1_8v3\n"
     ]
    },
    {
     "data": {
      "image/png": "[encoded data removed]",
      "text/plain": [
       "<Figure size 360x360 with 1 Axes>"
      ]
     },
     "metadata": {
      "needs_background": "light"
     },
     "output_type": "display_data"
    },
    {
     "name": "stderr",
     "output_type": "stream",
     "text": [
      "100%|██████████| 250/250 [00:03<00:00, 79.94it/s]\n"
     ]
    },
    {
     "name": "stdout",
     "output_type": "stream",
     "text": [
      "bandwidth: 1\n",
      "p_value: 0.0\n",
      "Image saved to images_latentdim6_8v3v8/diff_gaussian_s0_8v3\n"
     ]
    },
    {
     "data": {
      "image/png": "[encoded data removed]",
      "text/plain": [
       "<Figure size 360x360 with 1 Axes>"
      ]
     },
     "metadata": {
      "needs_background": "light"
     },
     "output_type": "display_data"
    },
    {
     "name": "stderr",
     "output_type": "stream",
     "text": [
      "100%|██████████| 250/250 [00:02<00:00, 89.96it/s] \n"
     ]
    },
    {
     "name": "stdout",
     "output_type": "stream",
     "text": [
      "bandwidth: 2\n",
      "p_value: 0.0\n",
      "Image saved to images_latentdim6_8v3v8/diff_gaussian_s1_8v3\n"
     ]
    },
    {
     "data": {
      "image/png": "[encoded data removed]",
      "text/plain": [
       "<Figure size 360x360 with 1 Axes>"
      ]
     },
     "metadata": {
      "needs_background": "light"
     },
     "output_type": "display_data"
    },
    {
     "name": "stderr",
     "output_type": "stream",
     "text": [
      "100%|██████████| 250/250 [00:03<00:00, 66.38it/s] \n"
     ]
    },
    {
     "name": "stdout",
     "output_type": "stream",
     "text": [
      "bandwidth: 4\n",
      "p_value: 0.0\n",
      "Image saved to images_latentdim6_8v3v8/diff_gaussian_s2_8v3\n"
     ]
    },
    {
     "data": {
      "image/png": "[encoded data removed]",
      "text/plain": [
       "<Figure size 360x360 with 1 Axes>"
      ]
     },
     "metadata": {
      "needs_background": "light"
     },
     "output_type": "display_data"
    },
    {
     "name": "stderr",
     "output_type": "stream",
     "text": [
      "100%|██████████| 250/250 [00:03<00:00, 68.47it/s]\n"
     ]
    },
    {
     "name": "stdout",
     "output_type": "stream",
     "text": [
      "bandwidth: 8\n",
      "p_value: 0.0\n",
      "Image saved to images_latentdim6_8v3v8/diff_gaussian_s3_8v3\n"
     ]
    },
    {
     "data": {
      "image/png": "[encoded data removed]",
      "text/plain": [
       "<Figure size 360x360 with 1 Axes>"
      ]
     },
     "metadata": {
      "needs_background": "light"
     },
     "output_type": "display_data"
    },
    {
     "name": "stdout",
     "output_type": "stream",
     "text": [
      "CPU times: user 2min 25s, sys: 59.6 s, total: 3min 25s\n",
      "Wall time: 33 s\n"
     ]
    }
   ],
   "source": [
    "%%time\n",
    "\n",
    "# gaussian mmd\n",
    "\n",
    "diff_gaussian_stats = {}\n",
    "for val in [scale_sigma_squared, auto_sigma_squared, -3, -2, -1, 0, 1, 2, 3]:\n",
    "    start = time.time()\n",
    "    observed_mmd_gaussian8v3, simulated_mmds_gaussian8v3 = permutation_test_gaussian_mmd(\n",
    "        x_batch, y_batch, n_perms=n_perms, sigma_squared=(2 ** val)\n",
    "    )\n",
    "    end = time.time()\n",
    "    p = p_val(simulated_mmds_gaussian8v3, observed_mmd_gaussian8v3)\n",
    "    diff_gaussian_stats[val] = {'p': p, 'time': end - start}\n",
    "\n",
    "    hist_color = 'tab:brown'\n",
    "    line_color = 'tab:green'\n",
    "    filepath = 'images_latentdim6_8v3v8/diff_gaussian_s' + str(val) + '_8v3'\n",
    "\n",
    "    if val == scale_sigma_squared or val == auto_sigma_squared:\n",
    "        print('bandwidth:', val)\n",
    "    else:\n",
    "        print('bandwidth:', str(np.round(2 ** val, 3)))\n",
    "    plot_permutation(\n",
    "        simulated_mmds_gaussian8v3, \n",
    "        observed_mmd_gaussian8v3, \n",
    "        hist_color = hist_color, \n",
    "        line_color = line_color,\n",
    "        filepath = filepath\n",
    "    )\n",
    "    plt.show()"
   ]
  },
  {
   "cell_type": "code",
   "execution_count": 20,
   "metadata": {},
   "outputs": [
    {
     "data": {
      "text/plain": [
       "{2.8848260237648284e-05: {'p': 0.0, 'time': 5.196414947509766},\n",
       " 0.0012755102040816326: {'p': 0.0, 'time': 3.683488130569458},\n",
       " -3: {'p': 0.0, 'time': 3.092616319656372},\n",
       " -2: {'p': 0.0, 'time': 2.801586866378784},\n",
       " -1: {'p': 0.0, 'time': 3.6118781566619873},\n",
       " 0: {'p': 0.0, 'time': 3.1359469890594482},\n",
       " 1: {'p': 0.0, 'time': 2.788443088531494},\n",
       " 2: {'p': 0.0, 'time': 3.7773919105529785},\n",
       " 3: {'p': 0.0, 'time': 3.6625001430511475}}"
      ]
     },
     "execution_count": 20,
     "metadata": {},
     "output_type": "execute_result"
    }
   ],
   "source": [
    "diff_gaussian_stats"
   ]
  },
  {
   "attachments": {},
   "cell_type": "markdown",
   "metadata": {},
   "source": [
    "### $X_1$ = {images of 8's}, $X_2$ = {images of 8's}"
   ]
  },
  {
   "cell_type": "code",
   "execution_count": 13,
   "metadata": {},
   "outputs": [
    {
     "name": "stdout",
     "output_type": "stream",
     "text": [
      "x1_batch shape: torch.Size([347, 1, 28, 28])\n",
      "x2_batch shape: torch.Size([289, 1, 28, 28])\n",
      "r_batch shape: torch.Size([144, 1, 28, 28])\n"
     ]
    }
   ],
   "source": [
    "# testing when x1_batch and x2_batch are from the same distribution\n",
    "x1_batch = []\n",
    "x2_batch = []\n",
    "r_batch = []\n",
    "for ind, data in enumerate(test_loader): # filter batches based on digit\n",
    "    if ind < 6:\n",
    "        r_batch.append(data[0][data[1] == 8])\n",
    "    elif 6 <= ind and ind % 2 == 0:\n",
    "        x1_batch.append(data[0][data[1] == 8])\n",
    "    elif 6 <= ind and ind % 2 == 1:\n",
    "        x2_batch.append(data[0][data[1] == 8])\n",
    "    if ind == 30: break\n",
    "x1_batch = torch.cat(x1_batch, dim=0)\n",
    "x2_batch = torch.cat(x2_batch, dim=0)\n",
    "r_batch = torch.cat(r_batch, dim=0)\n",
    "print('x1_batch shape:', x1_batch.shape)\n",
    "print('x2_batch shape:', x2_batch.shape)\n",
    "print('r_batch shape:', r_batch.shape)\n",
    "\n",
    "n_perms = 250"
   ]
  },
  {
   "cell_type": "code",
   "execution_count": 11,
   "metadata": {},
   "outputs": [
    {
     "data": {
      "text/plain": [
       "<matplotlib.image.AxesImage at 0x156f3ce50>"
      ]
     },
     "execution_count": 11,
     "metadata": {},
     "output_type": "execute_result"
    },
    {
     "data": {
      "image/png": "[encoded data removed]",
      "text/plain": [
       "<Figure size 432x288 with 3 Axes>"
      ]
     },
     "metadata": {
      "needs_background": "light"
     },
     "output_type": "display_data"
    }
   ],
   "source": [
    "plt.subplot(1,3,1)\n",
    "plt.imshow(x1_batch[0].squeeze())\n",
    "plt.subplot(1,3,2)\n",
    "plt.imshow(x2_batch[0].squeeze())\n",
    "plt.subplot(1,3,3)\n",
    "plt.imshow(r_batch[0].squeeze())"
   ]
  },
  {
   "attachments": {},
   "cell_type": "markdown",
   "metadata": {},
   "source": [
    "### Statistics for Anisotropic Kernel"
   ]
  },
  {
   "cell_type": "code",
   "execution_count": 14,
   "metadata": {},
   "outputs": [
    {
     "name": "stderr",
     "output_type": "stream",
     "text": [
      "100%|██████████| 250/250 [00:34<00:00,  7.20it/s]\n"
     ]
    },
    {
     "name": "stdout",
     "output_type": "stream",
     "text": [
      "bandwidth: 0.125\n",
      "p_value: 0.26\n",
      "Image saved to images_latentdim6_8v3v8/same_anisotropic_s-3_8v8\n"
     ]
    },
    {
     "data": {
      "image/png": "[encoded data removed]",
      "text/plain": [
       "<Figure size 360x360 with 1 Axes>"
      ]
     },
     "metadata": {
      "needs_background": "light"
     },
     "output_type": "display_data"
    },
    {
     "name": "stderr",
     "output_type": "stream",
     "text": [
      "100%|██████████| 250/250 [00:33<00:00,  7.49it/s]\n"
     ]
    },
    {
     "name": "stdout",
     "output_type": "stream",
     "text": [
      "bandwidth: 0.25\n",
      "p_value: 0.168\n",
      "Image saved to images_latentdim6_8v3v8/same_anisotropic_s-2_8v8\n"
     ]
    },
    {
     "data": {
      "image/png": "[encoded data removed]",
      "text/plain": [
       "<Figure size 360x360 with 1 Axes>"
      ]
     },
     "metadata": {
      "needs_background": "light"
     },
     "output_type": "display_data"
    },
    {
     "name": "stderr",
     "output_type": "stream",
     "text": [
      "100%|██████████| 250/250 [00:35<00:00,  7.12it/s]\n"
     ]
    },
    {
     "name": "stdout",
     "output_type": "stream",
     "text": [
      "bandwidth: 0.5\n",
      "p_value: 0.104\n",
      "Image saved to images_latentdim6_8v3v8/same_anisotropic_s-1_8v8\n"
     ]
    },
    {
     "data": {
      "image/png": "[encoded data removed]",
      "text/plain": [
       "<Figure size 360x360 with 1 Axes>"
      ]
     },
     "metadata": {
      "needs_background": "light"
     },
     "output_type": "display_data"
    },
    {
     "name": "stderr",
     "output_type": "stream",
     "text": [
      "100%|██████████| 250/250 [00:33<00:00,  7.42it/s]\n"
     ]
    },
    {
     "name": "stdout",
     "output_type": "stream",
     "text": [
      "bandwidth: 1\n",
      "p_value: 0.064\n",
      "Image saved to images_latentdim6_8v3v8/same_anisotropic_s0_8v8\n"
     ]
    },
    {
     "data": {
      "image/png": "[encoded data removed]",
      "text/plain": [
       "<Figure size 360x360 with 1 Axes>"
      ]
     },
     "metadata": {
      "needs_background": "light"
     },
     "output_type": "display_data"
    },
    {
     "name": "stderr",
     "output_type": "stream",
     "text": [
      "100%|██████████| 250/250 [00:36<00:00,  6.93it/s]\n"
     ]
    },
    {
     "name": "stdout",
     "output_type": "stream",
     "text": [
      "bandwidth: 2\n",
      "p_value: 0.12\n",
      "Image saved to images_latentdim6_8v3v8/same_anisotropic_s1_8v8\n"
     ]
    },
    {
     "data": {
      "image/png": "[encoded data removed]",
      "text/plain": [
       "<Figure size 360x360 with 1 Axes>"
      ]
     },
     "metadata": {
      "needs_background": "light"
     },
     "output_type": "display_data"
    },
    {
     "name": "stderr",
     "output_type": "stream",
     "text": [
      "100%|██████████| 250/250 [00:33<00:00,  7.37it/s]\n"
     ]
    },
    {
     "name": "stdout",
     "output_type": "stream",
     "text": [
      "bandwidth: 4\n",
      "p_value: 0.108\n",
      "Image saved to images_latentdim6_8v3v8/same_anisotropic_s2_8v8\n"
     ]
    },
    {
     "data": {
      "image/png": "[encoded data removed]",
      "text/plain": [
       "<Figure size 360x360 with 1 Axes>"
      ]
     },
     "metadata": {
      "needs_background": "light"
     },
     "output_type": "display_data"
    },
    {
     "name": "stderr",
     "output_type": "stream",
     "text": [
      "100%|██████████| 250/250 [00:33<00:00,  7.50it/s]\n"
     ]
    },
    {
     "name": "stdout",
     "output_type": "stream",
     "text": [
      "bandwidth: 8\n",
      "p_value: 0.1\n",
      "Image saved to images_latentdim6_8v3v8/same_anisotropic_s3_8v8\n"
     ]
    },
    {
     "data": {
      "image/png": "[encoded data removed]",
      "text/plain": [
       "<Figure size 360x360 with 1 Axes>"
      ]
     },
     "metadata": {
      "needs_background": "light"
     },
     "output_type": "display_data"
    },
    {
     "name": "stdout",
     "output_type": "stream",
     "text": [
      "CPU times: user 9min 56s, sys: 15min 19s, total: 25min 16s\n",
      "Wall time: 5min 1s\n"
     ]
    }
   ],
   "source": [
    "%%time\n",
    "\n",
    "# anisotropic mmd\n",
    "same_anisotropic_stats = {}\n",
    "for val in [-3, -2, -1, 0, 1, 2, 3]:\n",
    "    start = time.time()\n",
    "    observed_mmd_anisotropic8v8, simulated_mmds_anisotropic8v8 = permutation_test_anisotropic_mmd(\n",
    "        x1_batch, x2_batch, r_batch, encoder, n_perms=n_perms, sigma_squared = (2 ** val)\n",
    "    )\n",
    "    end = time.time()\n",
    "    p = p_val(simulated_mmds_anisotropic8v8, observed_mmd_anisotropic8v8)\n",
    "    same_anisotropic_stats[val] = {'p': p, 'time': end - start}\n",
    "\n",
    "    hist_color = '#093885'\n",
    "    line_color = 'tab:red'\n",
    "    filepath = 'images_latentdim6_8v3v8/same_anisotropic_s' + str(val) + '_8v8'\n",
    "\n",
    "    print('bandwidth:', str(np.round(2 ** val, 3)))\n",
    "    plot_permutation(\n",
    "        simulated_mmds_anisotropic8v8, \n",
    "        observed_mmd_anisotropic8v8, \n",
    "        hist_color = hist_color, \n",
    "        line_color = line_color,\n",
    "        filepath = filepath\n",
    "    )\n",
    "    plt.show()"
   ]
  },
  {
   "cell_type": "code",
   "execution_count": 15,
   "metadata": {},
   "outputs": [
    {
     "data": {
      "text/plain": [
       "{-3: {'p': 0.26, 'time': 42.830442905426025},\n",
       " -2: {'p': 0.168, 'time': 43.50366282463074},\n",
       " -1: {'p': 0.104, 'time': 44.080721855163574},\n",
       " 0: {'p': 0.064, 'time': 41.48620295524597},\n",
       " 1: {'p': 0.12, 'time': 44.44176387786865},\n",
       " 2: {'p': 0.108, 'time': 42.545814037323},\n",
       " 3: {'p': 0.1, 'time': 41.43160820007324}}"
      ]
     },
     "execution_count": 15,
     "metadata": {},
     "output_type": "execute_result"
    }
   ],
   "source": [
    "same_anisotropic_stats"
   ]
  },
  {
   "attachments": {},
   "cell_type": "markdown",
   "metadata": {},
   "source": [
    "### Statistics for Encoder Kernel"
   ]
  },
  {
   "cell_type": "code",
   "execution_count": 16,
   "metadata": {},
   "outputs": [
    {
     "name": "stderr",
     "output_type": "stream",
     "text": [
      "100%|██████████| 250/250 [00:41<00:00,  6.02it/s]\n"
     ]
    },
    {
     "name": "stdout",
     "output_type": "stream",
     "text": [
      "bandwidth: 0.125\n",
      "p_value: 0.564\n",
      "Image saved to images_latentdim6_8v3v8/same_encoder_s-3_8v8\n"
     ]
    },
    {
     "data": {
      "image/png": "[encoded data removed]",
      "text/plain": [
       "<Figure size 360x360 with 1 Axes>"
      ]
     },
     "metadata": {
      "needs_background": "light"
     },
     "output_type": "display_data"
    },
    {
     "name": "stderr",
     "output_type": "stream",
     "text": [
      "100%|██████████| 250/250 [00:42<00:00,  5.90it/s]\n"
     ]
    },
    {
     "name": "stdout",
     "output_type": "stream",
     "text": [
      "bandwidth: 0.25\n",
      "p_value: 0.528\n",
      "Image saved to images_latentdim6_8v3v8/same_encoder_s-2_8v8\n"
     ]
    },
    {
     "data": {
      "image/png": "[encoded data removed]",
      "text/plain": [
       "<Figure size 360x360 with 1 Axes>"
      ]
     },
     "metadata": {
      "needs_background": "light"
     },
     "output_type": "display_data"
    },
    {
     "name": "stderr",
     "output_type": "stream",
     "text": [
      "100%|██████████| 250/250 [00:43<00:00,  5.69it/s]\n"
     ]
    },
    {
     "name": "stdout",
     "output_type": "stream",
     "text": [
      "bandwidth: 0.5\n",
      "p_value: 0.512\n",
      "Image saved to images_latentdim6_8v3v8/same_encoder_s-1_8v8\n"
     ]
    },
    {
     "data": {
      "image/png": "[encoded data removed]",
      "text/plain": [
       "<Figure size 360x360 with 1 Axes>"
      ]
     },
     "metadata": {
      "needs_background": "light"
     },
     "output_type": "display_data"
    },
    {
     "name": "stderr",
     "output_type": "stream",
     "text": [
      "100%|██████████| 250/250 [00:44<00:00,  5.60it/s]\n"
     ]
    },
    {
     "name": "stdout",
     "output_type": "stream",
     "text": [
      "bandwidth: 1\n",
      "p_value: 0.776\n",
      "Image saved to images_latentdim6_8v3v8/same_encoder_s0_8v8\n"
     ]
    },
    {
     "data": {
      "image/png": "[encoded data removed]",
      "text/plain": [
       "<Figure size 360x360 with 1 Axes>"
      ]
     },
     "metadata": {
      "needs_background": "light"
     },
     "output_type": "display_data"
    },
    {
     "name": "stderr",
     "output_type": "stream",
     "text": [
      "100%|██████████| 250/250 [00:45<00:00,  5.48it/s]\n"
     ]
    },
    {
     "name": "stdout",
     "output_type": "stream",
     "text": [
      "bandwidth: 2\n",
      "p_value: 0.868\n",
      "Image saved to images_latentdim6_8v3v8/same_encoder_s1_8v8\n"
     ]
    },
    {
     "data": {
      "image/png": "[encoded data removed]",
      "text/plain": [
       "<Figure size 360x360 with 1 Axes>"
      ]
     },
     "metadata": {
      "needs_background": "light"
     },
     "output_type": "display_data"
    },
    {
     "name": "stderr",
     "output_type": "stream",
     "text": [
      "100%|██████████| 250/250 [00:48<00:00,  5.17it/s]\n"
     ]
    },
    {
     "name": "stdout",
     "output_type": "stream",
     "text": [
      "bandwidth: 4\n",
      "p_value: 0.492\n",
      "Image saved to images_latentdim6_8v3v8/same_encoder_s2_8v8\n"
     ]
    },
    {
     "data": {
      "image/png": "[encoded data removed]",
      "text/plain": [
       "<Figure size 360x360 with 1 Axes>"
      ]
     },
     "metadata": {
      "needs_background": "light"
     },
     "output_type": "display_data"
    },
    {
     "name": "stderr",
     "output_type": "stream",
     "text": [
      "100%|██████████| 250/250 [00:45<00:00,  5.53it/s]\n"
     ]
    },
    {
     "name": "stdout",
     "output_type": "stream",
     "text": [
      "bandwidth: 8\n",
      "p_value: 0.196\n",
      "Image saved to images_latentdim6_8v3v8/same_encoder_s3_8v8\n"
     ]
    },
    {
     "data": {
      "image/png": "[encoded data removed]",
      "text/plain": [
       "<Figure size 360x360 with 1 Axes>"
      ]
     },
     "metadata": {
      "needs_background": "light"
     },
     "output_type": "display_data"
    },
    {
     "name": "stdout",
     "output_type": "stream",
     "text": [
      "CPU times: user 6min 39s, sys: 17min 16s, total: 23min 55s\n",
      "Wall time: 6min 22s\n"
     ]
    }
   ],
   "source": [
    "%%time\n",
    "\n",
    "encoder.eval()\n",
    "same_encoder_stats = {}\n",
    "for val in [-3, -2, -1, 0, 1, 2, 3]:\n",
    "    start = time.time()\n",
    "    observed_mmd_encoder8v8, simulated_mmds_encoder8v8 = permutation_test_encoder_mmd(\n",
    "        x1_batch, x2_batch, r_batch, encoder, n_perms=n_perms, sigma_squared=(2 ** val)\n",
    "    )\n",
    "    end = time.time()\n",
    "    p = p_val(simulated_mmds_encoder8v8, observed_mmd_encoder8v8)\n",
    "    same_encoder_stats[val] = {'p': p, 'time': end - start}\n",
    "\n",
    "    hist_color = 'tab:blue'\n",
    "    line_color = 'tab:orange'\n",
    "    filepath = 'images_latentdim6_8v3v8/same_encoder_s' + str(val) + '_8v8'\n",
    "\n",
    "    print('bandwidth:', str(np.round(2 ** val, 3)))\n",
    "    plot_permutation(\n",
    "        simulated_mmds_encoder8v8, \n",
    "        observed_mmd_encoder8v8, \n",
    "        hist_color = hist_color, \n",
    "        line_color = line_color,\n",
    "        filepath = filepath\n",
    "    )\n",
    "    plt.show()"
   ]
  },
  {
   "cell_type": "code",
   "execution_count": 17,
   "metadata": {},
   "outputs": [
    {
     "data": {
      "text/plain": [
       "{-3: {'p': 0.564, 'time': 41.78019309043884},\n",
       " -2: {'p': 0.528, 'time': 55.13121724128723},\n",
       " -1: {'p': 0.512, 'time': 55.01797914505005},\n",
       " 0: {'p': 0.776, 'time': 55.86070704460144},\n",
       " 1: {'p': 0.868, 'time': 58.68597722053528},\n",
       " 2: {'p': 0.492, 'time': 58.95929002761841},\n",
       " 3: {'p': 0.196, 'time': 55.95197892189026}}"
      ]
     },
     "execution_count": 17,
     "metadata": {},
     "output_type": "execute_result"
    }
   ],
   "source": [
    "same_encoder_stats"
   ]
  },
  {
   "attachments": {},
   "cell_type": "markdown",
   "metadata": {},
   "source": [
    "### Statistics for Gaussian Kernel"
   ]
  },
  {
   "cell_type": "code",
   "execution_count": 23,
   "metadata": {},
   "outputs": [
    {
     "name": "stderr",
     "output_type": "stream",
     "text": [
      "100%|██████████| 250/250 [00:04<00:00, 51.22it/s]\n"
     ]
    },
    {
     "name": "stdout",
     "output_type": "stream",
     "text": [
      "bandwidth: auto\n",
      "p_value: 0.356\n",
      "Image saved to images_latentdim6_8v3v8/same_gaussian_sauto_8v8\n"
     ]
    },
    {
     "data": {
      "image/png": "[encoded data removed]",
      "text/plain": [
       "<Figure size 360x360 with 1 Axes>"
      ]
     },
     "metadata": {
      "needs_background": "light"
     },
     "output_type": "display_data"
    },
    {
     "name": "stderr",
     "output_type": "stream",
     "text": [
      "100%|██████████| 250/250 [00:04<00:00, 50.21it/s]\n"
     ]
    },
    {
     "name": "stdout",
     "output_type": "stream",
     "text": [
      "bandwidth: 0.125\n",
      "p_value: 0.0\n",
      "Image saved to images_latentdim6_8v3v8/same_gaussian_s-3_8v8\n"
     ]
    },
    {
     "data": {
      "image/png": "[encoded data removed]",
      "text/plain": [
       "<Figure size 360x360 with 1 Axes>"
      ]
     },
     "metadata": {
      "needs_background": "light"
     },
     "output_type": "display_data"
    },
    {
     "name": "stderr",
     "output_type": "stream",
     "text": [
      "100%|██████████| 250/250 [00:04<00:00, 55.34it/s]\n"
     ]
    },
    {
     "name": "stdout",
     "output_type": "stream",
     "text": [
      "bandwidth: 0.25\n",
      "p_value: 0.0\n",
      "Image saved to images_latentdim6_8v3v8/same_gaussian_s-2_8v8\n"
     ]
    },
    {
     "data": {
      "image/png": "[encoded data removed]",
      "text/plain": [
       "<Figure size 360x360 with 1 Axes>"
      ]
     },
     "metadata": {
      "needs_background": "light"
     },
     "output_type": "display_data"
    },
    {
     "name": "stderr",
     "output_type": "stream",
     "text": [
      "100%|██████████| 250/250 [00:05<00:00, 48.47it/s]\n"
     ]
    },
    {
     "name": "stdout",
     "output_type": "stream",
     "text": [
      "bandwidth: 0.5\n",
      "p_value: 0.3\n",
      "Image saved to images_latentdim6_8v3v8/same_gaussian_s-1_8v8\n"
     ]
    },
    {
     "data": {
      "image/png": "[encoded data removed]",
      "text/plain": [
       "<Figure size 360x360 with 1 Axes>"
      ]
     },
     "metadata": {
      "needs_background": "light"
     },
     "output_type": "display_data"
    },
    {
     "name": "stderr",
     "output_type": "stream",
     "text": [
      "100%|██████████| 250/250 [00:04<00:00, 51.27it/s]\n"
     ]
    },
    {
     "name": "stdout",
     "output_type": "stream",
     "text": [
      "bandwidth: 1\n",
      "p_value: 0.352\n",
      "Image saved to images_latentdim6_8v3v8/same_gaussian_s0_8v8\n"
     ]
    },
    {
     "data": {
      "image/png": "[encoded data removed]",
      "text/plain": [
       "<Figure size 360x360 with 1 Axes>"
      ]
     },
     "metadata": {
      "needs_background": "light"
     },
     "output_type": "display_data"
    },
    {
     "name": "stderr",
     "output_type": "stream",
     "text": [
      "100%|██████████| 250/250 [00:04<00:00, 52.99it/s]\n"
     ]
    },
    {
     "name": "stdout",
     "output_type": "stream",
     "text": [
      "bandwidth: 2\n",
      "p_value: 0.224\n",
      "Image saved to images_latentdim6_8v3v8/same_gaussian_s1_8v8\n"
     ]
    },
    {
     "data": {
      "image/png": "[encoded data removed]",
      "text/plain": [
       "<Figure size 360x360 with 1 Axes>"
      ]
     },
     "metadata": {
      "needs_background": "light"
     },
     "output_type": "display_data"
    },
    {
     "name": "stderr",
     "output_type": "stream",
     "text": [
      "100%|██████████| 250/250 [00:04<00:00, 51.87it/s]\n"
     ]
    },
    {
     "name": "stdout",
     "output_type": "stream",
     "text": [
      "bandwidth: 4\n",
      "p_value: 0.004\n",
      "Image saved to images_latentdim6_8v3v8/same_gaussian_s2_8v8\n"
     ]
    },
    {
     "data": {
      "image/png": "[encoded data removed]",
      "text/plain": [
       "<Figure size 360x360 with 1 Axes>"
      ]
     },
     "metadata": {
      "needs_background": "light"
     },
     "output_type": "display_data"
    },
    {
     "name": "stderr",
     "output_type": "stream",
     "text": [
      "100%|██████████| 250/250 [00:04<00:00, 55.61it/s]\n"
     ]
    },
    {
     "name": "stdout",
     "output_type": "stream",
     "text": [
      "bandwidth: 8\n",
      "p_value: 0.0\n",
      "Image saved to images_latentdim6_8v3v8/same_gaussian_s3_8v8\n"
     ]
    },
    {
     "data": {
      "image/png": "[encoded data removed]",
      "text/plain": [
       "<Figure size 360x360 with 1 Axes>"
      ]
     },
     "metadata": {
      "needs_background": "light"
     },
     "output_type": "display_data"
    }
   ],
   "source": [
    "# gaussian mmd\n",
    "\n",
    "same_gaussian_stats = {}\n",
    "for val in [auto_sigma_squared, -3, -2, -1, 0, 1, 2, 3]:\n",
    "    start = time.time()\n",
    "    observed_mmd_gaussian8v8, simulated_mmds_gaussian8v8 = permutation_test_gaussian_mmd(\n",
    "        x1_batch, x2_batch, n_perms=n_perms, sigma_squared=(2 ** val)\n",
    "    )\n",
    "    end = time.time()\n",
    "    p = p_val(simulated_mmds_gaussian8v8, observed_mmd_gaussian8v8)\n",
    "    same_gaussian_stats[val] = {'p': p, 'time': end - start}\n",
    "\n",
    "    hist_color = 'tab:brown'\n",
    "    line_color = 'tab:green'\n",
    "\n",
    "    if val == auto_sigma_squared:\n",
    "        print('bandwidth: auto')\n",
    "        filepath = 'images_latentdim6_8v3v8/same_gaussian_sauto_8v8'\n",
    "    else:\n",
    "        print('bandwidth:', str(np.round(2 ** val, 3)))\n",
    "        filepath = 'images_latentdim6_8v3v8/same_gaussian_s' + str(val) + '_8v8'\n",
    "    plot_permutation(\n",
    "        simulated_mmds_gaussian8v8, \n",
    "        observed_mmd_gaussian8v8, \n",
    "        hist_color = hist_color, \n",
    "        line_color = line_color,\n",
    "        filepath = filepath\n",
    "    )\n",
    "    plt.show()"
   ]
  },
  {
   "cell_type": "code",
   "execution_count": 25,
   "metadata": {},
   "outputs": [
    {
     "data": {
      "text/plain": [
       "{0.0012755102040816326: {'p': 0.356, 'time': 4.92578911781311},\n",
       " -3: {'p': 0.0, 'time': 5.0001540184021},\n",
       " -2: {'p': 0.0, 'time': 4.551986217498779},\n",
       " -1: {'p': 0.3, 'time': 5.270156145095825},\n",
       " 0: {'p': 0.352, 'time': 4.897148847579956},\n",
       " 1: {'p': 0.224, 'time': 4.727743864059448},\n",
       " 2: {'p': 0.004, 'time': 4.850759029388428},\n",
       " 3: {'p': 0.0, 'time': 4.528946876525879}}"
      ]
     },
     "execution_count": 25,
     "metadata": {},
     "output_type": "execute_result"
    }
   ],
   "source": [
    "same_gaussian_stats"
   ]
  },
  {
   "cell_type": "code",
   "execution_count": null,
   "metadata": {},
   "outputs": [],
   "source": []
  }
 ],
 "metadata": {
  "kernelspec": {
   "display_name": "pytorch_m1",
   "language": "python",
   "name": "python3"
  },
  "language_info": {
   "codemirror_mode": {
    "name": "ipython",
    "version": 3
   },
   "file_extension": ".py",
   "mimetype": "text/x-python",
   "name": "python",
   "nbconvert_exporter": "python",
   "pygments_lexer": "ipython3",
   "version": "3.8.13"
  },
  "orig_nbformat": 4
 },
 "nbformat": 4,
 "nbformat_minor": 2
}
